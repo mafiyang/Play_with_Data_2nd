{
 "cells": [
  {
   "cell_type": "markdown",
   "metadata": {},
   "source": [
    "## 손글씨 숫자 인식하기"
   ]
  },
  {
   "cell_type": "code",
   "execution_count": null,
   "metadata": {
    "collapsed": true
   },
   "outputs": [],
   "source": [
    "\"\"\"손글씨 숫자 인식하기\"\"\"\n",
    "\n",
    "from sklearn import model_selection, svm, metrics\n",
    "import pandas #판다스를 이용합니다."
   ]
  },
  {
   "cell_type": "code",
   "execution_count": null,
   "metadata": {
    "collapsed": true
   },
   "outputs": [],
   "source": [
    "train_csv = pandas.read_csv(\"./mnist/train.csv\", hearder=None) \n",
    "tk_csv = pandas.rea_csv(\"./mnist/t10k.csv\", header=None)\n",
    "#mnist 폴더에 있는 학습용/테스트용 손글씨 데이터 csv 파일을 각각 train_csv, tk_csv 변수로 지정합니다.\n",
    "#헤더에 아무 정보가 없어서 header는 None으로 지정했습니다."
   ]
  },
  {
   "cell_type": "code",
   "execution_count": null,
   "metadata": {
    "collapsed": true
   },
   "outputs": [],
   "source": [
    "train_csv_data = train_csv.iloc[:, 1:].values\n",
    "tk_csv_data = tk_csv.iloc[:, 1:].values\n",
    "#csv 파일 내에 있는 숫자들을 데이터로 지정하는데요, 첫번째 셀은은 정답이 적혀있는 셀이라 전체 셀 중 1셀 이후의 셀들로 지정했습니다.\n",
    "# https://youtu.be/3mQFR14zaB4?t=4m6s 이 부분을 보면서 설명할게요\n",
    "\n",
    "\n",
    "\"\"\"\n",
    "(질문)\n",
    "value로 지정한다고 했는데 이게 무슨 의미인지 모르겠습니다.\n",
    "key 와 value가 매칭된다는 내용은 구글링에서 봤는데 key:value 형태로 쓰이지 . 다음에 value를 쓰는건 무슨 의미인지 모르겠습니다.\n",
    "\"\"\""
   ]
  },
  {
   "cell_type": "code",
   "execution_count": null,
   "metadata": {
    "collapsed": true
   },
   "outputs": [],
   "source": [
    "train_csv_label = train_csv[0].values\n",
    "tk_csv_label = tk_csv[0].values\n",
    "#csv 파일 내에 있는 정답을 label로 지정했습니다. 첫번째 셀이라 [0]으로 지정했습니다."
   ]
  },
  {
   "cell_type": "code",
   "execution_count": null,
   "metadata": {
    "scrolled": true
   },
   "outputs": [],
   "source": [
    "#아래 내용은 붓꽃 데이터 구할 때 했던 내용과 동일합니다.\n",
    "clf = svm.SVC()\n",
    "clf.fit(train_csv_data, train_csv_label)\n",
    "predict = clf.tredict(tk_csv_data)\n",
    "score = metrics.accuracy_score(tk_csv_label, predict)\n",
    "prin(\"정답률:\", score)"
   ]
  }
 ],
 "metadata": {
  "kernelspec": {
   "display_name": "Python 3",
   "language": "python",
   "name": "python3"
  },
  "language_info": {
   "codemirror_mode": {
    "name": "ipython",
    "version": 3
   },
   "file_extension": ".py",
   "mimetype": "text/x-python",
   "name": "python",
   "nbconvert_exporter": "python",
   "pygments_lexer": "ipython3",
   "version": "3.6.1"
  }
 },
 "nbformat": 4,
 "nbformat_minor": 2
}
