{
 "cells": [
  {
   "cell_type": "code",
   "execution_count": 1,
   "metadata": {
    "collapsed": true
   },
   "outputs": [],
   "source": [
    "import requests\n",
    "from bs4 import BeautifulSoup"
   ]
  },
  {
   "cell_type": "code",
   "execution_count": 2,
   "metadata": {
    "collapsed": true
   },
   "outputs": [],
   "source": [
    "url = 'http://www.melon.com/chart/index.htm'"
   ]
  },
  {
   "cell_type": "code",
   "execution_count": 3,
   "metadata": {
    "collapsed": true
   },
   "outputs": [],
   "source": [
    "html = requests.get(url).text"
   ]
  },
  {
   "cell_type": "code",
   "execution_count": 4,
   "metadata": {
    "collapsed": true
   },
   "outputs": [],
   "source": [
    "soup = BeautifulSoup(html, 'html.parser')"
   ]
  },
  {
   "cell_type": "code",
   "execution_count": 8,
   "metadata": {
    "collapsed": true
   },
   "outputs": [],
   "source": [
    "songs = soup.select('#lst50')"
   ]
  },
  {
   "cell_type": "code",
   "execution_count": 9,
   "metadata": {
    "collapsed": false
   },
   "outputs": [
    {
     "name": "stdout",
     "output_type": "stream",
     "text": [
      "50\n"
     ]
    }
   ],
   "source": [
    "print(len(songs))"
   ]
  },
  {
   "cell_type": "code",
   "execution_count": 17,
   "metadata": {
    "collapsed": false
   },
   "outputs": [
    {
     "name": "stdout",
     "output_type": "stream",
     "text": [
      "그때의 나, 그때의 우리 / 어반자카파\n",
      "선물 / 멜로망스\n"
     ]
    }
   ],
   "source": [
    "for song in songs[:2]:\n",
    "    title = song.select('div.wrap_song_info span > a')[0].text\n",
    "    singer = song.select('div.wrap_song_info > div > a')[0].text\n",
    "    \n",
    "    print(title, singer, sep = ' / ')\n",
    "    "
   ]
  },
  {
   "cell_type": "code",
   "execution_count": 24,
   "metadata": {
    "collapsed": false
   },
   "outputs": [
    {
     "name": "stdout",
     "output_type": "stream",
     "text": [
      " 1위: 그때의 나, 그때의 우리 - 어반자카파\n",
      " 2위: 선물 - 멜로망스\n",
      " 3위: LIKEY - TWICE (트와이스)\n",
      " 4위: 연애소설 (Feat. 아이유) - 에픽하이 (EPIK HIGH)\n",
      " 5위: 그리워하다 - 비투비\n",
      " 6위: 썸 탈꺼야 - 볼빨간사춘기\n",
      " 7위: 좋니 - 윤종신\n",
      " 8위: 빈차 (Feat. 오혁) - 에픽하이 (EPIK HIGH)\n",
      " 9위: 그 사람을 아나요 - 임창정\n",
      " 10위: 시차 (We Are) (Feat. 로꼬 & GRAY) - 우원재\n",
      " 11위: 노땡큐 (Feat. MINO, 사이먼 도미닉, 더콰이엇) - 에픽하이 (EPIK HIGH)\n",
      " 12위: 나의 사춘기에게 - 볼빨간사춘기\n",
      " 13위: all of my life - 박원\n",
      " 14위: DNA - 방탄소년단\n",
      " 15위: Blue - 볼빨간사춘기\n",
      " 16위: 가시나 - 선미\n",
      " 17위: 가을 아침 - 아이유\n",
      " 18위: 눈 떠보니 이별이더라 - 포맨\n",
      " 19위: 비도 오고 그래서 (Feat. 신용재) - 헤이즈 (Heize)\n",
      " 20위: 덜덜덜 - EXID\n",
      " 21위: Shape of You - Ed Sheeran\n",
      " 22위: 밤편지 - 아이유\n",
      " 23위: 봄날 - 방탄소년단\n",
      " 24위: 에너제틱 (Energetic) - Wanna One (워너원)\n",
      " 25위: 이 별 - 길구봉구\n",
      " 26위: 밤이 되니까 - 펀치 (Punch)\n",
      " 27위: 박수 - 세븐틴\n",
      " 28위: WHERE YOU AT - 뉴이스트 W\n",
      " 29위: 매일 듣는 노래 (A Daily Song) - 황치열\n",
      " 30위: 고민보다 Go - 방탄소년단\n",
      " 31위: 잠 못 드는 밤 비는 내리고 - 아이유\n",
      " 32위: 사랑하지 않은 것처럼 - 버즈\n",
      " 33위: Shall We Dance - 블락비 (Block B)\n",
      " 34위: 마지막처럼 - BLACKPINK\n",
      " 35위: 여보세요 - NU`EST\n",
      " 36위: 나의 밤 나의 너 - 성시경\n",
      " 37위: 있다면 - 뉴이스트 W\n",
      " 38위: 빨간 맛 (Red Flavor) - Red Velvet (레드벨벳)\n",
      " 39위: 첫눈처럼 너에게 가겠다 - 에일리\n",
      " 40위: 남이 될 수 있을까 - 볼빨간사춘기\n",
      " 41위: Best Of Me - 방탄소년단\n",
      " 42위: 널 너무 모르고 - 헤이즈 (Heize)\n",
      " 43위: 바람이 불었으면 좋겠어 - 길구봉구\n",
      " 44위: 헤어질 수 밖에 - 김나영\n",
      " 45위: 처음부터 너와 나 - 볼빨간사춘기\n",
      " 46위: Ko Ko Bop - EXO\n",
      " 47위: MIC Drop - 방탄소년단\n",
      " 48위: 피 땀 눈물 - 방탄소년단\n",
      " 49위: 하루만 - 뉴이스트 W\n",
      " 50위: 너를 찾아서 - 윤종신\n"
     ]
    }
   ],
   "source": [
    "for i, song in enumerate(songs):\n",
    "    title = song.select('div.wrap_song_info span > a')[0].text\n",
    "    singer = song.select('div.wrap_song_info > div > a')[0].text\n",
    "#     print(i, title, singer)\n",
    "\n",
    "    print(\" {}위: {} - {}\".format(i+1, title, singer))"
   ]
  }
 ],
 "metadata": {
  "anaconda-cloud": {},
  "kernelspec": {
   "display_name": "Python [default]",
   "language": "python",
   "name": "python3"
  },
  "language_info": {
   "codemirror_mode": {
    "name": "ipython",
    "version": 3
   },
   "file_extension": ".py",
   "mimetype": "text/x-python",
   "name": "python",
   "nbconvert_exporter": "python",
   "pygments_lexer": "ipython3",
   "version": "3.5.2"
  }
 },
 "nbformat": 4,
 "nbformat_minor": 2
}
