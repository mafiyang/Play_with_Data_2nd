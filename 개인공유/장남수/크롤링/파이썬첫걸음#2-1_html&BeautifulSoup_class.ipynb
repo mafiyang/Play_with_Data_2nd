{
 "cells": [
  {
   "cell_type": "code",
   "execution_count": 8,
   "metadata": {
    "collapsed": true
   },
   "outputs": [],
   "source": [
    "# html 구조 이해"
   ]
  },
  {
   "cell_type": "markdown",
   "metadata": {},
   "source": [
    " - html 구조 이해하기(1회차 수업자료)\n",
    "\n",
    "    <태그>  </태그>\n",
    "\n",
    "    <태그1>\n",
    "        <태그2 속성=1>\n",
    "            <태그3>장남수</태그3>\n",
    "            <태그4></태그4>\n",
    "        </태그2>\n",
    "    </태그1>\n",
    "    \n",
    "\n",
    "\n",
    "    <태그> 안녕하세요</태그>\n",
    "\n",
    "\n",
    "    <태그 속성1=값1 속성2=값3>\n",
    "\n"
   ]
  },
  {
   "cell_type": "code",
   "execution_count": 9,
   "metadata": {
    "collapsed": true
   },
   "outputs": [],
   "source": [
    "html = '''\n",
    "<html>\n",
    "    <head>\n",
    "    </head>\n",
    "    <body>\n",
    "        <h1> 망원시장 \n",
    "            <p id='fruits1' class='name' title='바나나'> 바나나\n",
    "                <span class = 'price'> 3000원 </span>\n",
    "                <span class = 'inventory'> 500개 </span>\n",
    "                <span class = 'store'> 가가가 </span>\n",
    "                <a href = 'http://test1'> url1 </a>\n",
    "            </p>\n",
    "\n",
    "            <p id='fruits2' class='name' title='귤'> 귤\n",
    "                <span class = 'price'> 2000원 </span>\n",
    "                <span class = 'inventory'> 100개 </span>\n",
    "                <span class = 'store'> 나나나</span>\n",
    "                <a href = 'http://test2'> url2 </a>\n",
    "            </p>\n",
    "            <p id='fruits3' class='name' title='파인애플'> 파인애플\n",
    "                <span class = 'price'> 5000원 </span>\n",
    "                <span class = 'inventory'> 10개 </span>\n",
    "                <span class = 'store'> 가가가</span>\n",
    "                <a href = 'http://test1'> url1 </a>\n",
    "            </p>\n",
    "        </h1>\n",
    "    </body>\n",
    "</html>\n",
    "\n",
    "'''\n"
   ]
  },
  {
   "cell_type": "code",
   "execution_count": null,
   "metadata": {
    "collapsed": true
   },
   "outputs": [],
   "source": []
  },
  {
   "cell_type": "code",
   "execution_count": null,
   "metadata": {
    "collapsed": true
   },
   "outputs": [],
   "source": [
    "# BeautifulSoup 으로 원하는 정보 가져오기"
   ]
  },
  {
   "cell_type": "code",
   "execution_count": null,
   "metadata": {
    "collapsed": true
   },
   "outputs": [],
   "source": []
  },
  {
   "cell_type": "code",
   "execution_count": 10,
   "metadata": {
    "collapsed": true
   },
   "outputs": [],
   "source": [
    "from bs4 import BeautifulSoup  # 대소문자 구분"
   ]
  },
  {
   "cell_type": "code",
   "execution_count": 11,
   "metadata": {
    "collapsed": true
   },
   "outputs": [],
   "source": [
    "soup = BeautifulSoup(html, 'html.parser')"
   ]
  },
  {
   "cell_type": "code",
   "execution_count": 12,
   "metadata": {
    "collapsed": true
   },
   "outputs": [
    {
     "name": "stdout",
     "output_type": "stream",
     "text": [
      "[<p class=\"name\" id=\"fruits1\" title=\"바나나\"> 바나나\n",
      "                <span class=\"price\"> 3000원 </span>\n",
      "<span class=\"inventory\"> 500개 </span>\n",
      "<span class=\"store\"> 가가가 </span>\n",
      "<a href=\"http://test1\"> url1 </a>\n",
      "</p>, <p class=\"name\" id=\"fruits2\" title=\"귤\"> 귤\n",
      "                <span class=\"price\"> 2000원 </span>\n",
      "<span class=\"inventory\"> 100개 </span>\n",
      "<span class=\"store\"> 나나나</span>\n",
      "<a href=\"http://test2\"> url2 </a>\n",
      "</p>, <p class=\"name\" id=\"fruits3\" title=\"파인애플\"> 파인애플\n",
      "                <span class=\"price\"> 5000원 </span>\n",
      "<span class=\"inventory\"> 10개 </span>\n",
      "<span class=\"store\"> 가가가</span>\n",
      "<a href=\"http://test1\"> url1 </a>\n",
      "</p>]\n"
     ]
    }
   ],
   "source": [
    "# 예시\n",
    "name = soup.select('p')\n",
    "print(name)"
   ]
  },
  {
   "cell_type": "code",
   "execution_count": 13,
   "metadata": {
    "collapsed": false
   },
   "outputs": [
    {
     "name": "stdout",
     "output_type": "stream",
     "text": [
      "[<a href=\"http://test1\"> url1 </a>, <a href=\"http://test2\"> url2 </a>, <a href=\"http://test1\"> url1 </a>]\n"
     ]
    }
   ],
   "source": [
    "link = soup.select('a')\n",
    "print(link)"
   ]
  },
  {
   "cell_type": "code",
   "execution_count": null,
   "metadata": {
    "collapsed": true
   },
   "outputs": [],
   "source": [
    "soup.select('p > span')"
   ]
  },
  {
   "cell_type": "code",
   "execution_count": null,
   "metadata": {
    "collapsed": true
   },
   "outputs": [],
   "source": [
    "print(soup.prettify())  # html 보기 편하게 보여줌"
   ]
  },
  {
   "cell_type": "code",
   "execution_count": 19,
   "metadata": {
    "collapsed": false
   },
   "outputs": [
    {
     "name": "stdout",
     "output_type": "stream",
     "text": [
      "[<span class=\"price\"> 3000원 </span>, <span class=\"price\"> 2000원 </span>, <span class=\"price\"> 5000원 </span>]\n"
     ]
    }
   ],
   "source": [
    "#예시 \n",
    "# price = soup.select('.price')\n",
    "# price = soup.select('span.price')\n",
    "# price = soup.select('h1 > p > span.price')\n",
    "# price = soup.select('h1 > span.price')  # --> 안나옴    # >  자식\n",
    "price = soup.select('h1 span.price')                      # > 자손  \n",
    "print(price)\n",
    "\n",
    "#     <body>\n",
    "#         <h1> 망원시장 \n",
    "#             <p id='fruits1' class='name' title='바나나'> 바나나\n",
    "#                 <span class = 'price'> 3000원 </span>\n",
    "#                 <span class = 'inventory'> 500개 </span>\n",
    "#                 <span class = 'store'> 가가가 </span>"
   ]
  },
  {
   "cell_type": "code",
   "execution_count": null,
   "metadata": {
    "collapsed": true
   },
   "outputs": [],
   "source": [
    "# 원하는 정보 그룹! 찾기 soup.select()  / soup.find()  soup.find_all()\n",
    "\n",
    "# soup.select('원하는 정보')  # select('원하는 정보') -->  단 하나만 있더라도, 복수 가능한 형태로 되어있음\n",
    "# soup.select('태그명')\n",
    "# soup.select('.클래스명')\n",
    "# soup.select('상위태그명 > 하위태그명 > 하위태그명')\n",
    "# soup.select('상위태그명.클래스명 > 하위태그명.클래스명')    # 바로 아래의(자식) 태그를 선택시에는 > 기호를 사용\n",
    "# soup.select('상위태그명.클래스명 하~위태그명')              # 아래의(자손) 태그를 선택시에는   띄어쓰기 사용\n",
    "# soup.select('상위태그명 > 바로아래태그명 하~위태그명')     \n",
    "# soup.select('.클래스명')\n",
    "# soup.select('#아이디명')                  # 태그는 여러개에 사용 가능하나 아이디는 한번만 사용 가능함! ==> 선택하기 좋음\n",
    "# soup.select('태그명.클래스명)\n",
    "# soup.select('#아이디명 > 태그명.클래스명)\n",
    "# soup.select('태그명[속성1=값1]')"
   ]
  },
  {
   "cell_type": "code",
   "execution_count": null,
   "metadata": {
    "collapsed": true
   },
   "outputs": [],
   "source": []
  },
  {
   "cell_type": "code",
   "execution_count": 25,
   "metadata": {
    "collapsed": false
   },
   "outputs": [
    {
     "name": "stdout",
     "output_type": "stream",
     "text": [
      "[<span class=\"price\"> 3000원 </span>, <span class=\"price\"> 2000원 </span>, <span class=\"price\"> 5000원 </span>]\n",
      "[<span class=\"price\"> 3000원 </span>, <span class=\"price\"> 2000원 </span>, <span class=\"price\"> 5000원 </span>]\n",
      "[<span class=\"price\"> 3000원 </span>, <span class=\"price\"> 2000원 </span>, <span class=\"price\"> 5000원 </span>]\n",
      "[<span class=\"price\"> 3000원 </span>, <span class=\"price\"> 2000원 </span>, <span class=\"price\"> 5000원 </span>]\n",
      "[<span class=\"price\"> 3000원 </span>]\n"
     ]
    }
   ],
   "source": [
    "prices = soup.select('span.price')\n",
    "print(prices)\n",
    "prices = soup.select('p > span.price')\n",
    "print(prices)\n",
    "prices = soup.select('h1 > p > span.price')\n",
    "print(prices)\n",
    "prices = soup.select('body p span.price')\n",
    "print(prices)\n",
    "price_banana = soup.select('#fruits1 > span.price')\n",
    "print(price_banana)"
   ]
  },
  {
   "cell_type": "code",
   "execution_count": 27,
   "metadata": {
    "collapsed": false
   },
   "outputs": [
    {
     "name": "stdout",
     "output_type": "stream",
     "text": [
      " 3000원 \n"
     ]
    }
   ],
   "source": [
    "print(price_banana[0].text)   "
   ]
  },
  {
   "cell_type": "code",
   "execution_count": 28,
   "metadata": {
    "collapsed": false
   },
   "outputs": [
    {
     "name": "stdout",
     "output_type": "stream",
     "text": [
      "[<span class=\"price\"> 3000원 </span>, <span class=\"price\"> 2000원 </span>, <span class=\"price\"> 5000원 </span>]\n",
      "<span class=\"price\"> 3000원 </span>\n",
      "123\n",
      "<span class=\"price\"> 2000원 </span>\n",
      "123\n",
      "<span class=\"price\"> 5000원 </span>\n",
      "123\n",
      "111\n",
      " 3000원 \n",
      " 2000원 \n",
      " 5000원 \n",
      "--------------------------------------------------\n",
      " 3000원 \n",
      " 2000원 \n"
     ]
    }
   ],
   "source": [
    "# 하나씩 값 가져오기. --> 반복문 활용\n",
    "\n",
    "prices = soup.select('body p span.price')\n",
    "print(prices)\n",
    "\n",
    "# 반복문\n",
    "# for 반복원소명 in 덩어리:\n",
    "    \n",
    "\n",
    "for price in prices:\n",
    "    print(price)\n",
    "    print('123')\n",
    "    \n",
    "print('111')\n",
    "    \n",
    "for price in prices:\n",
    "    print(price.text)\n",
    "    \n",
    "    \n",
    "# 반복문 == 인덱스\n",
    "print('-'*50)\n",
    "print(prices[0].text)\n",
    "print(prices[1].text)"
   ]
  },
  {
   "cell_type": "code",
   "execution_count": null,
   "metadata": {
    "collapsed": true,
    "scrolled": true
   },
   "outputs": [],
   "source": [
    "# 하나씩 값 가져오기 --> 속성 내부의 값(ex. url 주소)\n",
    "links = soup.select('#fruits > a')\n",
    "\n",
    "for link in links:\n",
    "    print(link)\n",
    "    \n",
    "for link in links:\n",
    "    print(link.text)\n",
    "    \n",
    "for link in links:\n",
    "    print(link['href'])"
   ]
  },
  {
   "cell_type": "code",
   "execution_count": null,
   "metadata": {
    "collapsed": true
   },
   "outputs": [],
   "source": [
    "# 하나가 나오더라도 인덱스 or 반복문으로 하나씩 지정해야 함\n",
    "place = soup.select('h1').text   # soup.select() --> 복수의 값\n",
    "print(place)\n",
    "\n",
    "place = soup.select('h1')[0].text   # soup.select()[0] --> 첫번째의 값으로 지정함\n",
    "print(place)"
   ]
  },
  {
   "cell_type": "code",
   "execution_count": null,
   "metadata": {
    "collapsed": true
   },
   "outputs": [],
   "source": [
    "# 과일 정보 정리하기\n"
   ]
  },
  {
   "cell_type": "code",
   "execution_count": 29,
   "metadata": {
    "collapsed": false
   },
   "outputs": [
    {
     "name": "stdout",
     "output_type": "stream",
     "text": [
      "바나나  3000원   500개   가가가  http://test1\n",
      "귤  2000원   100개   나나나 http://test2\n",
      "파인애플  5000원   10개   가가가 http://test1\n",
      "[['바나나', ' 3000원 ', ' 500개 ', ' 가가가 ', 'http://test1'], ['귤', ' 2000원 ', ' 100개 ', ' 나나나', 'http://test2'], ['파인애플', ' 5000원 ', ' 10개 ', ' 가가가', 'http://test1']]\n"
     ]
    }
   ],
   "source": [
    "from bs4 import BeautifulSoup\n",
    "soup = BeautifulSoup(html, 'html.parser')\n",
    "\n",
    "results=[]\n",
    "fruits = soup.select('h1 > p')  # 과일 그룹을 가져온다\n",
    "for fruit in fruits:           # 과일 종류 하나씩 꺼내서\n",
    "    name = fruit['title']\n",
    "    price = fruit.select('span.price')[0].text\n",
    "    inventory = fruit.select('span.inventory')[0].text\n",
    "    store = fruit.select('span.store')[0].text\n",
    "    url = fruit.select('a')[0]['href']\n",
    "    \n",
    "    print(name, price, inventory, store, url)          \n",
    "    results.append([name,price,inventory,store,url])   # 리스트로도 결과 정리 가능함. --> 보기 편하고, 나중에 분류하기 편함\n",
    "print(results)"
   ]
  }
 ],
 "metadata": {
  "anaconda-cloud": {},
  "kernelspec": {
   "display_name": "Python [default]",
   "language": "python",
   "name": "python3"
  },
  "language_info": {
   "codemirror_mode": {
    "name": "ipython",
    "version": 3
   },
   "file_extension": ".py",
   "mimetype": "text/x-python",
   "name": "python",
   "nbconvert_exporter": "python",
   "pygments_lexer": "ipython3",
   "version": "3.5.2"
  }
 },
 "nbformat": 4,
 "nbformat_minor": 2
}
