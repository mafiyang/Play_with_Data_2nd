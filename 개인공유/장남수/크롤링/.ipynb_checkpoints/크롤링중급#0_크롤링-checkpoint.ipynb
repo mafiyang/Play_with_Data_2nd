{
 "cells": [
  {
   "cell_type": "markdown",
   "metadata": {},
   "source": [
    "# 빅데이터 분석은 크롤링부터\n",
    "\n",
    " - 데이터수집 → 데이터 정리 → 작업(계산/분류) → Output\n",
    "\n",
    "    ※ 데이터수집: \n",
    "     ① 이미 저장하고 있는 데이터, ② 새롭게 가져와야 할 데이터(from Web)\n",
    "      ** ==> 크롤링**"
   ]
  },
  {
   "cell_type": "markdown",
   "metadata": {},
   "source": [
    "# 크롤링 과정\n",
    "\n",
    "* 크롤링 Vs 휴대폰 구매\n",
    "\n",
    "[최저가 휴대폰 구매 하는 법]\n",
    "0. 무엇을 살지 정한다(기종/사양 등)\n",
    "0. while(원하는 가격/조건의 판매처를 찾을 때 까지)\n",
    "    1. 최저가 판매 하는 곳을 찾는다\n",
    "    2. 찾아간다\n",
    "    3. 제품이 제대로 있는지?(신뢰할만한 사람인지..), 어떠한 조건인지(약정기간/부가서비스/지원금 지급시기 등) 확인한다\n",
    "    4. 내가 원하는 조건에 맞는지 살펴본다\n",
    "5. 괜찮으면 산다\n",
    "6. 쓴다\n",
    "\n",
    "[크롤링 하는 방법]\n",
    "\n",
    "0. 원하는 정보를 정한다\n",
    "0. while(원하는 정보를 찾을 때 까지)\n",
    "    1. 정보가 있는 url을 찾는다\n",
    "    2. 해당 페이지에 접근한다\n",
    "    3. 페이지내 원하는 정보가 있는지, 어떠한 구조로 되어있는지 살펴본다\n",
    "    4. 원하는 정보를 찾는다 \n",
    "5. 맞으면 가져온다\n",
    "6. 데이터 활용한다\n"
   ]
  },
  {
   "cell_type": "markdown",
   "metadata": {},
   "source": [
    "# 크롤링 접근 방법\n",
    "\n",
    "## 1. Requests → BeautifulSoup → select()\n",
    " - 속도 빠름 (크롤링 차단 가능 높음)\n",
    " - html 내에 정보가 없는 경우 크롤링 어려움 (해당 정보 위치 확인하여 가능할 수도....)\n",
    " - ex) 뉴스기사 크롤링, Yes24 베스트셀러, Mellon 인기곡 등\n",
    " \n",
    "## 2. Selenium \n",
    " - 느림\n",
    " - 내가 직접 보는 화면의 내용을 가져올 수 있음(자바스크립트 도 가능함)\n",
    " - ex) 인스타그램, 네이버까페 등"
   ]
  },
  {
   "cell_type": "markdown",
   "metadata": {
    "collapsed": true
   },
   "source": [
    "# ※ 크롤링 가능 유무 판단"
   ]
  },
  {
   "cell_type": "markdown",
   "metadata": {},
   "source": [
    "페이지 소스보기 탐색: 크롬 → 마우스 우클릭 → 페이지소스보기 → Ctrl + F  원하는 내용 찾아보기\n",
    "\n",
    "    ↓\n",
    "\n",
    "\n",
    "기본 크롤링 가능유무 판단\n",
    "\n",
    "      if) 정보 존재 ▶ *Requests / BeautifulSoup 으로 크롤링!!!*\n",
    "  \n",
    "  \n",
    "    ↓\n",
    "\n",
    "else) html 외부에서 정보 가져오는 중(자바스크립트 or 프레임 사용) \n",
    "\n",
    "            ↓\n",
    "\n",
    "        URL 확인가능여부 판단: 태그 구조 or Network 에서 url 확인가능   \n",
    "             ※ 개발자도구 활용(크롬 → 마우스 우클릭 → 검사  or 크롬에서 F12 로도 가능) \n",
    "        \n",
    "                ▶ if) url 확인 가능시 해당 주소로 Requests / BeautifulSoup  검토*\n",
    "              \n",
    "            \n",
    "                ▶ else) Selenium 으로 크롤링   "
   ]
  },
  {
   "cell_type": "code",
   "execution_count": null,
   "metadata": {
    "collapsed": true
   },
   "outputs": [],
   "source": []
  }
 ],
 "metadata": {
  "kernelspec": {
   "display_name": "Python 3",
   "language": "python",
   "name": "python3"
  },
  "language_info": {
   "codemirror_mode": {
    "name": "ipython",
    "version": 3
   },
   "file_extension": ".py",
   "mimetype": "text/x-python",
   "name": "python",
   "nbconvert_exporter": "python",
   "pygments_lexer": "ipython3",
   "version": "3.6.1"
  }
 },
 "nbformat": 4,
 "nbformat_minor": 2
}
