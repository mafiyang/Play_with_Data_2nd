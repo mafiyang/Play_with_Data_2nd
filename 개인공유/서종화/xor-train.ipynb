{
 "cells": [
  {
   "cell_type": "code",
   "execution_count": null,
   "metadata": {},
   "outputs": [],
   "source": [
    "from sklearn import svm\n",
    "\n",
    "# XOR의 계산 결과 데이터\n",
    "xor_data = [\n",
    "    # P, Q, result(결과/답)\n",
    "    [0, 0, 0],\n",
    "    [0, 1, 1],\n",
    "    [1, 0, 1],\n",
    "    [1, 1, 1],\n",
    "]\n",
    "\n",
    "# 학습을 위해 데이터(문제, 조건)과 레이블(결과, 답)을 분리\n",
    "data = []\n",
    "label = []\n",
    "for row in xor_data:\n",
    "    p = row[0]\n",
    "    q = row[1]\n",
    "    r = row[2]\n",
    "    \n",
    "    # 데이터(문제, 조건)의 배열 원소 추가\n",
    "    data.append([p, q])\n",
    "    \n",
    "    # 레이블(결과, 답)의 배열 원소 추가\n",
    "    label.append(r)\n",
    "    \n",
    "# 데이터 학습 (문제조건과 결과답을 전달)\n",
    "clf = svm.SVC()\n",
    "clv.fit(data, label)\n",
    "\n",
    "# 데이터 예측 (여기서는 문제를 재사용)\n",
    "pre = clf.predict(data)\n",
    "print(\"예측 결과: \" , pre)\n",
    "\n",
    "# 결과 확인하기\n",
    "ok = 0; total = 0;\n",
    "for idx, answer in enumerate(label):\n",
    "    p = pre[idx]\n",
    "    if p == answer: ok += 1\n",
    "        total +=1"
   ]
  }
 ],
 "metadata": {
  "kernelspec": {
   "display_name": "Python 3",
   "language": "python",
   "name": "python3"
  },
  "language_info": {
   "codemirror_mode": {
    "name": "ipython",
    "version": 3
   },
   "file_extension": ".py",
   "mimetype": "text/x-python",
   "name": "python",
   "nbconvert_exporter": "python",
   "pygments_lexer": "ipython3",
   "version": "3.6.3"
  }
 },
 "nbformat": 4,
 "nbformat_minor": 2
}
